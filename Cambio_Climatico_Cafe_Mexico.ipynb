{
  "cells": [
    {
      "cell_type": "markdown",
      "metadata": {
        "id": "view-in-github",
        "colab_type": "text"
      },
      "source": [
        "<a href=\"https://colab.research.google.com/github/vvalerioluna/DataScience/blob/main/Cambio_Climatico_Cafe_Mexico.ipynb\" target=\"_parent\"><img src=\"https://colab.research.google.com/assets/colab-badge.svg\" alt=\"Open In Colab\"/></a>"
      ]
    },
    {
      "cell_type": "markdown",
      "id": "d072f27d",
      "metadata": {
        "id": "d072f27d"
      },
      "source": [
        "# Proyecto: Evaluación del Impacto del Cambio Climático en la Aptitud del Cultivo de Café en México\n",
        "\n",
        "Este proyecto evalua y analiza las zonas aptas para el cultivo de café en el estado de Chiapas, considerando como el cambio climático podría afectar la idoneidad para el cultivo, utilizando técnicas de Machine Learning, Deep Learning en particular Random Forest y XGBoost/SVM, para clasificar y predecir zonas potencialmente aptas bajo el contexto del cambio climático y análisis geoespacial con datos abiertos del INEGI.\n",
        "\n",
        "Estatus: En Desarrollo la fecha estimida de finalización Dic 2025.\n",
        "Responsable Proyecto: Victor Valerio Luna\n",
        "NOTA: El proyecto forma parte de una propuesta del Proyecto: El Potencial de las TIC en Sectores Emergentes en México y Latinoamérica del INFOTEC"
      ]
    },
    {
      "cell_type": "markdown",
      "id": "80af64b2",
      "metadata": {
        "id": "80af64b2"
      },
      "source": [
        "## 1. Carga de librerías necesarias"
      ]
    },
    {
      "cell_type": "code",
      "execution_count": null,
      "id": "034f7253",
      "metadata": {
        "id": "034f7253"
      },
      "outputs": [],
      "source": [
        "!pip install geopandas folium rasterio earthengine-api keplergl xarray netCDF4 tqdm --quiet\n"
      ]
    },
    {
      "cell_type": "code",
      "execution_count": null,
      "id": "eda48051",
      "metadata": {
        "id": "eda48051"
      },
      "outputs": [],
      "source": [
        "\n",
        "import geopandas as gpd\n",
        "import pandas as pd\n",
        "import numpy as np\n",
        "import folium\n",
        "from keplergl import KeplerGl\n",
        "import matplotlib.pyplot as plt\n",
        "import os\n",
        "import rasterio\n",
        "from rasterio.mask import mask\n",
        "from shapely.geometry import box\n",
        "from shapely.geometry import Polygon\n",
        "from shapely.geometry import Point\n",
        "\n",
        "import seaborn as sns\n",
        "import xarray as xr\n",
        "from sklearn.ensemble import RandomForestClassifier\n",
        "from sklearn.svm import SVC\n",
        "from xgboost import XGBClassifier\n",
        "from sklearn.metrics import confusion_matrix, classification_report, roc_auc_score, RocCurveDisplay\n",
        "from sklearn.preprocessing import StandardScaler\n",
        "from sklearn.pipeline import Pipeline\n",
        "\n",
        "\n",
        "from sklearn.model_selection import train_test_split\n",
        "from sklearn.metrics import classification_report\n",
        "import tensorflow as tf\n",
        "from tensorflow.keras.models import Sequential\n",
        "from tensorflow.keras.layers import Dense, LSTM, Conv2D, MaxPooling2D, Flatten\n",
        "import requests\n",
        "import json\n",
        "from io import BytesIO\n",
        "import zipfile\n",
        "import warnings\n",
        "warnings.filterwarnings(\"ignore\")"
      ]
    },
    {
      "cell_type": "markdown",
      "id": "3c842952",
      "metadata": {
        "id": "3c842952"
      },
      "source": [
        "## 2. Adquisición (Consulta) de datos geoespaciales y climáticos"
      ]
    },
    {
      "cell_type": "code",
      "execution_count": null,
      "id": "f2d3c3ca",
      "metadata": {
        "id": "f2d3c3ca"
      },
      "outputs": [],
      "source": [
        "# montamos MyDrive\n",
        "from google.colab import drive\n",
        "drive.mount('/gdrive')\n",
        "carpeta = 'RUTA/AL/DIRECTORIO/LOCAL/carpeta/9_DataScience/Portafolio/' #Ruta de archivos permanentes\n",
        "RUTA_BASE = \"/content/\" # Ruta para archivo volatiles\n"
      ]
    },
    {
      "cell_type": "code",
      "execution_count": null,
      "id": "166bc9a6",
      "metadata": {
        "id": "166bc9a6"
      },
      "outputs": [],
      "source": [
        "def descargar_zip(url, nombre_archivo):\n",
        "    # Descarga un archivo ZIP desde una URL\n",
        "    try:\n",
        "        print(f\"Descargando: {url}\")\n",
        "        respuesta = requests.get(url, stream=True)\n",
        "        respuesta.raise_for_status()\n",
        "        with open(nombre_archivo, 'wb') as f:\n",
        "            for chunk in respuesta.iter_content(chunk_size=8192):\n",
        "                f.write(chunk)\n",
        "        print(f\"Ok Descarga completada: {nombre_archivo}\")\n",
        "    except requests.exceptions.RequestException as e:\n",
        "        print(f\"X Error en la descarga: {e}\")\n",
        "        return False\n",
        "    return True\n",
        "\n",
        "def descomprimir_zip(nombre_archivo, carpeta_destino=\"/content/\"):\n",
        "    # Descomprimir un archivo ZIP usando shell de Colab (más robusto que zipfile) realice pruebas y fue más óptimo\n",
        "    try:\n",
        "        print(f\"Descomprimiendo {nombre_archivo}...\")\n",
        "        os.system(f'unzip -o \"{nombre_archivo}\" -d \"{carpeta_destino}\"')\n",
        "        print(\"Ok Descompresión completada.\")\n",
        "        return True\n",
        "    except Exception as e:\n",
        "        print(f\"X Error al descomprimir: {e}\")\n",
        "        return False\n",
        "\n",
        "def buscar_geotiff(carpeta=\"/content/\"):\n",
        "    # Busca el primer archivo GeoTIFF en la carpeta\n",
        "    for archivo in os.listdir(carpeta):\n",
        "        if archivo.lower().endswith(\".tif\"):\n",
        "            return os.path.join(carpeta, archivo)\n",
        "    return None\n",
        "\n",
        "def visualizar_geotiff(path_tif, titulo=\"Visualización GeoTIFF\"):\n",
        "    # Carga y muestra una imagen GeoTIFF\n",
        "    try:\n",
        "        with rasterio.open(path_tif) as src:\n",
        "            imagen = src.read(1)\n",
        "            plt.figure(figsize=(10, 6))\n",
        "            plt.imshow(imagen, cmap=\"viridis\")\n",
        "            plt.title(titulo)\n",
        "            plt.colorbar(label=\"Valor\")\n",
        "            plt.axis(\"off\")\n",
        "            plt.show()\n",
        "    except Exception as e:\n",
        "        print(f\"X Error al visualizar el GeoTIFF: {e}\")\n",
        "\n",
        "def procesar_descarga_visualizacion(url, nombre_zip, titulo_mapa):\n",
        "    # Pipeline completo: descarga, descomprime, busca y visualiza\n",
        "    if descargar_zip(url, nombre_zip):\n",
        "        if descomprimir_zip(nombre_zip):\n",
        "            path_tif = buscar_geotiff()\n",
        "            if path_tif:\n",
        "                print(f\"!¡ Archivo GeoTIFF encontrado: {path_tif}\")\n",
        "                visualizar_geotiff(path_tif, titulo_mapa)\n",
        "            else:\n",
        "                print(\" No se encontró ningún archivo .tif en la carpeta.\")\n",
        "        else:\n",
        "            print(\" No se pudo descomprimir el archivo ZIP.\")\n",
        "    else:\n",
        "        print(\" No se pudo descargar el archivo ZIP.\")\n",
        "\n",
        "# Procesamiento de archivos\n",
        "url_uso_suelo = \"https://www.inegi.org.mx/contenidos/productos/prod_serv/contenidos/espanol/bvinegi/productos/geografia/tematicas/uso_suelo_veg/int_art/794551132210_t.zip\"\n",
        "procesar_descarga_visualizacion(url_uso_suelo, \"uso_suelo.zip\", \"Uso de Suelo y Vegetación\")\n",
        "\n",
        "url_clima = \"https://www.inegi.org.mx/contenidos/productos/prod_serv/contenidos/espanol/bvinegi/productos/geografia/tematicas/CLIMAS/889463860136_s.zip\"\n",
        "procesar_descarga_visualizacion(url_clima, \"clima.zip\", \"Índices de Extremos Climáticos\")"
      ]
    },
    {
      "cell_type": "markdown",
      "id": "74b9d035",
      "metadata": {
        "id": "74b9d035"
      },
      "source": [
        "## 4. Análisis exploratorio y visualización geográfica"
      ]
    },
    {
      "cell_type": "code",
      "execution_count": null,
      "id": "4d279cbd",
      "metadata": {
        "id": "4d279cbd"
      },
      "outputs": [],
      "source": [
        "\n",
        "ruta_tif = buscar_geotiff(\"/gdrive/MyDrive/9_DataScience/Portafolio/794551132210_t\")\n",
        "\n",
        "# 1. Cargar y leer el GeoTIFF\n",
        "with rasterio.open(ruta_tif) as src:\n",
        "    uso_suelo_array = src.read(1)  # Solo una banda\n",
        "    perfil = src.profile\n",
        "    nodata = src.nodata\n",
        "    print(\"Perfil del raster:\")\n",
        "    print(perfil)\n",
        "\n",
        "# 2. Máscara de valores válidos (excluye nodata)\n",
        "valores_validos = uso_suelo_array[uso_suelo_array != nodata]\n",
        "\n",
        "# 3. Visualización general\n",
        "plt.figure(figsize=(10, 6))\n",
        "plt.imshow(uso_suelo_array, cmap=\"tab20\", interpolation='none')\n",
        "plt.colorbar(label=\"Clase de uso del suelo\")\n",
        "plt.title(\"Mapa de Uso del Suelo y Vegetación (IA, INEGI 2018)\")\n",
        "plt.axis(\"off\")\n",
        "plt.show()\n",
        "\n",
        "# 4. Histograma de clases\n",
        "conteo_clases = Counter(valores_validos.flatten())\n",
        "clases = list(conteo_clases.keys())\n",
        "frecuencias = list(conteo_clases.values())\n",
        "\n",
        "plt.figure(figsize=(12, 6))\n",
        "sns.barplot(x=clases, y=frecuencias, palette=\"tab20\")\n",
        "plt.xlabel(\"Código de clase de uso del suelo\")\n",
        "plt.ylabel(\"Frecuencia (número de píxeles)\")\n",
        "plt.title(\"Distribución de clases de uso del suelo\")\n",
        "plt.xticks(rotation=90)\n",
        "plt.show()\n",
        "\n",
        "# 5. Estadísticas básicas\n",
        "print(\"\\n Estadísticas básicas del raster:\")\n",
        "print(f\"- Total de píxeles válidos: {len(valores_validos)}\")\n",
        "print(f\"- Clases únicas encontradas: {sorted(clases)}\")\n",
        "print(f\"- Clase más frecuente: {max(conteo_clases, key=conteo_clases.get)} con {max(frecuencias):,} píxeles\")\n",
        "print(f\"- Clase menos frecuente: {min(conteo_clases, key=conteo_clases.get)} con {min(frecuencias):,} píxeles\")"
      ]
    },
    {
      "cell_type": "code",
      "execution_count": null,
      "id": "d6e3db32",
      "metadata": {
        "id": "d6e3db32"
      },
      "outputs": [],
      "source": [
        "# Definir ruta donde se descomprimió el archivo ZIP\n",
        "carpeta_climas = \"/gdrive/MyDrive/9_DataScience/Portafolio/889463860136_s/conjunto_de_datos/datos regionales\"  # Asegúrate de haber descomprimido antes\n",
        "\n",
        "# Buscar archivo .shp en la carpeta\n",
        "def buscar_shp(carpeta):\n",
        "    for archivo in os.listdir(carpeta):\n",
        "        if archivo.lower().endswith(\".shp\"):\n",
        "            return os.path.join(carpeta, archivo)\n",
        "    return None\n",
        "\n",
        "shp_path = buscar_shp(carpeta_climas)\n",
        "\n",
        "if shp_path:\n",
        "    print(f\"OK Archivo SHP encontrado: {shp_path}\")\n",
        "\n",
        "    # Leer archivo SHP con GeoPandas\n",
        "    gdf = gpd.read_file(shp_path)\n",
        "\n",
        "    # Primeras filas\n",
        "    print(\" Primeras filas del GeoDataFrame:\")\n",
        "    display(gdf.head())\n",
        "\n",
        "    # Información general\n",
        "    print(\"\\n Información del GeoDataFrame:\")\n",
        "    print(gdf.info())\n",
        "\n",
        "    # Tipo de geometrías y proyección\n",
        "    print(\"\\n Tipo de geometrías:\", gdf.geom_type.unique())\n",
        "    print(\" CRS (proyección):\", gdf.crs)\n",
        "\n",
        "    # Columnas disponibles\n",
        "    print(\"\\n Columnas:\")\n",
        "    print(gdf.columns)\n",
        "\n",
        "    # Estadísticas descriptivas\n",
        "    print(\"\\n Estadísticas descriptivas:\")\n",
        "    display(gdf.describe(include='all'))\n",
        "\n",
        "    #  Visualización básica con matplotlib\n",
        "    gdf.plot(figsize=(10, 8), column=gdf.columns[1], legend=True, cmap=\"viridis\", edgecolor='black')\n",
        "    plt.title(\"Mapa de Índices de Extremos Climáticos (INEGI)\")\n",
        "    plt.axis('off')\n",
        "    plt.show()\n",
        "\n",
        "    # Visualización interactiva con folium\n",
        "    centro = gdf.geometry.centroid.unary_union.centroid.coords[:][0][::-1]\n",
        "    m = folium.Map(location=centro, zoom_start=5)\n",
        "    folium.GeoJson(gdf).add_to(m)\n",
        "    m\n",
        "\n",
        "else:\n",
        "    print(\" No se encontró archivo SHP en la carpeta. Verifica que esté descomprimido.\")"
      ]
    },
    {
      "cell_type": "code",
      "execution_count": null,
      "id": "9559ccdf",
      "metadata": {
        "id": "9559ccdf"
      },
      "outputs": [],
      "source": [
        "#1. Convertir ruta_tif a puntos georreferenciados (para Folium / Kepler)\n",
        "def raster_a_puntos(ruta_tif, max_muestras=5000):\n",
        "    with rasterio.open(ruta_tif) as src:\n",
        "        banda = src.read(1)\n",
        "        transform = src.transform\n",
        "        nodata = src.nodata\n",
        "\n",
        "        puntos = []\n",
        "        for row in range(banda.shape[0]):\n",
        "            for col in range(banda.shape[1]):\n",
        "                valor = banda[row, col]\n",
        "                if valor != nodata:\n",
        "                    x, y = transform * (col, row)\n",
        "                    puntos.append({\"geometry\": Point(x, y), \"valor\": valor})\n",
        "        print(f\"OK Puntos extraídos: {len(puntos)}\")\n",
        "\n",
        "        # Reducir cantidad para visualización (opcional)\n",
        "        if max_muestras and len(puntos) > max_muestras:\n",
        "            puntos = np.random.choice(puntos, max_muestras, replace=False).tolist()\n",
        "\n",
        "        gdf_puntos = gpd.GeoDataFrame(puntos, crs=src.crs)\n",
        "        return gdf_puntos\n",
        "\n",
        "gdf_raster_pts = raster_a_puntos(ruta_tif)\n",
        "display(gdf_raster_pts.head())\n"
      ]
    },
    {
      "cell_type": "code",
      "execution_count": null,
      "id": "af4a19f8",
      "metadata": {
        "id": "af4a19f8"
      },
      "outputs": [],
      "source": [
        "#2. Convertir gdf (clima) a GeoJSON para usar en Folium y Kepler\n",
        "geojson_clima = json.loads(gdf.to_json())\n",
        "geojson_raster = json.loads(gdf_raster_pts.to_json())\n"
      ]
    },
    {
      "cell_type": "code",
      "execution_count": null,
      "id": "ed117996",
      "metadata": {
        "id": "ed117996"
      },
      "outputs": [],
      "source": [
        "#3. Visualizar en Folium\n",
        "# Obtener centro del mapa\n",
        "centro = gdf_raster_pts.unary_union.centroid.coords[0][::-1]\n",
        "\n",
        "m = folium.Map(location=centro, zoom_start=6)\n",
        "\n",
        "# Agregar capa raster como puntos\n",
        "folium.GeoJson(geojson_raster, name=\"Uso de Suelo\",\n",
        "               tooltip=folium.GeoJsonTooltip(fields=[\"valor\"], aliases=[\"Clase:\"])\n",
        "              ).add_to(m)\n",
        "\n",
        "# Agregar capa climática\n",
        "folium.GeoJson(geojson_clima, name=\"Clima Extremo\",\n",
        "               tooltip=folium.GeoJsonTooltip(fields=gdf.columns[1:3].tolist())\n",
        "              ).add_to(m)\n",
        "\n",
        "folium.LayerControl().add_to(m)\n",
        "\n",
        "m\n"
      ]
    },
    {
      "cell_type": "code",
      "execution_count": null,
      "id": "4f4ce3d5",
      "metadata": {
        "id": "4f4ce3d5"
      },
      "outputs": [],
      "source": [
        "#4. Visualizar en Kepler.gl\n",
        "mapa_kepler = KeplerGl(height=600)\n",
        "\n",
        "mapa_kepler.add_data(data=gdf_raster_pts, name=\"Uso de Suelo (puntos)\")\n",
        "mapa_kepler.add_data(data=gdf, name=\"Clima Extremo\")\n",
        "\n",
        "mapa_kepler\n"
      ]
    },
    {
      "cell_type": "markdown",
      "id": "cd47bbab",
      "metadata": {
        "id": "cd47bbab"
      },
      "source": [
        "## 5. Modelado con Machine Learning (En proceso ya que se validará)\n",
        "Criterios de Aptitud para el Cultivo de Café en Chiapas\n",
        "1. Temperatura\n",
        "Óptima: Entre 18°C y 24°C.\n",
        "Límite Inferior: No menos de 15°C.\n",
        "Límite Superior: No más de 30°C.\n",
        "Impacto: Temperaturas fuera de este rango pueden afectar negativamente la floración y el desarrollo de los granos.\n",
        "2. Precipitación\n",
        "Óptima: Entre 1,500 mm y 2,500 mm anuales.\n",
        "Distribución: Idealmente bien distribuida a lo largo del año, con una estación seca corta para favorecer la floración.\n",
        "3. Altitud\n",
        "Óptima para Coffea arabica: Entre 1,000 y 2,000 metros sobre el nivel del mar (msnm).\n",
        "Óptima para Coffea canephora (Robusta): Entre 200 y 800 msnm.\n",
        "Impacto: La altitud influye en la temperatura y la humedad, afectando la calidad del café.\n",
        "4. Tipo de Suelo\n",
        "Textura: Suelos franco-arenosos a franco-arcillosos.\n",
        "pH: Entre 5.0 y 6.5.\n",
        "Drenaje: Bien drenados, con buena capacidad de retención de agua.\n",
        "Fertilidad: Ricos en materia orgánica y nutrientes esenciales como nitrógeno, fósforo y potasio.\n",
        "Variedades de Café Más Vendidas\n",
        "Coffea arabica: Incluye variedades como Bourbon, Typica, Caturra, y Geisha. Estas variedades son apreciadas por su sabor suave y aromático.\n",
        "Coffea canephora (Robusta): Conocida por su mayor resistencia a enfermedades y su contenido más alto de cafeína, aunque su sabor es más fuerte y amargo 2.\n",
        "Consideraciones Adicionales\n",
        "Cambio Climático: Es importante considerar las proyecciones climáticas para los años 2026 y 2027, ya que el cambio climático puede alterar las condiciones óptimas actuales. Adaptar las prácticas agrícolas y seleccionar variedades resistentes será crucial.\n"
      ]
    },
    {
      "cell_type": "code",
      "execution_count": null,
      "id": "cf25c42d",
      "metadata": {
        "id": "cf25c42d"
      },
      "outputs": [],
      "source": [
        "# ERROR: esta celda requiere revisión (ruta o variable no definida)\n",
        "# Random Forest para modelar idoneidad del cultivo\n",
        "# Datos simulados como ejemplo\n",
        "X = datos_climaticos[[\"temp\", \"precip\"]]\n",
        "y = datos_suelo[\"cafe\"]  # binario: café sí o no\n",
        "X_train, X_test, y_train, y_test = train_test_split(X, y, test_size=0.2)\n",
        "modelo_rf = RandomForestClassifier()\n",
        "modelo_rf.fit(X_train, y_train)\n",
        "print(classification_report(y_test, modelo_rf.predict(X_test)))\n"
      ]
    },
    {
      "cell_type": "code",
      "execution_count": null,
      "id": "799c6b66",
      "metadata": {
        "id": "799c6b66"
      },
      "outputs": [],
      "source": [
        "np.random.seed(42)\n",
        "datos_climaticos = pd.DataFrame({\n",
        "    'temp': np.random.normal(loc=22, scale=3, size=1000),\n",
        "    'precip': np.random.normal(loc=1500, scale=300, size=1000)\n",
        "})\n",
        "datos_suelo = pd.DataFrame({\n",
        "    'cafe': np.random.choice([0, 1], size=1000)\n",
        "})"
      ]
    },
    {
      "cell_type": "markdown",
      "id": "acfb6af8",
      "metadata": {
        "id": "acfb6af8"
      },
      "source": [
        "##  6. Modelado con Deep Learning (LSTM o CNN)"
      ]
    },
    {
      "cell_type": "code",
      "execution_count": null,
      "id": "6d67be9f",
      "metadata": {
        "id": "6d67be9f"
      },
      "outputs": [],
      "source": [
        "X = datos_climaticos[[\"temp\", \"precip\"]]\n",
        "y = datos_suelo[\"cafe\"]\n",
        "X_train, X_test, y_train, y_test = train_test_split(X, y, test_size=0.2)\n",
        "\n",
        "modelo_rf = RandomForestClassifier(n_estimators=100, random_state=42)\n",
        "modelo_rf.fit(X_train, y_train)\n",
        "y_pred_rf = modelo_rf.predict(X_test)\n",
        "print(\" Random Forest Classification Report:\")\n",
        "print(classification_report(y_test, y_pred_rf))"
      ]
    },
    {
      "cell_type": "code",
      "execution_count": null,
      "id": "36280987",
      "metadata": {
        "id": "36280987"
      },
      "outputs": [],
      "source": [
        "\n",
        "# Ejemplo de red neuronal densa simple\n",
        "#modelo_dl = Sequential([\n",
        "#    Dense(64, activation='relu', input_shape=(X_train.shape[1],)),\n",
        "#    Dense(32, activation='relu'),\n",
        "#    Dense(1, activation='sigmoid')\n",
        "#])\n",
        "#modelo_dl.compile(optimizer='adam', loss='binary_crossentropy', metrics=['accuracy'])\n",
        "#modelo_dl.fit(X_train, y_train, epochs=10, validation_data=(X_test, y_test))\n"
      ]
    },
    {
      "cell_type": "markdown",
      "id": "e3eb946a",
      "metadata": {
        "id": "e3eb946a"
      },
      "source": [
        "## 7. Evaluación y escenarios futuros\n",
        "- Comparar métricas entre modelos\n",
        "- Proyección de cambios bajo escenarios RCP 4.5 y 8.5"
      ]
    },
    {
      "cell_type": "code",
      "execution_count": null,
      "id": "f369506d",
      "metadata": {
        "id": "f369506d"
      },
      "outputs": [],
      "source": [
        "modelo_dl = Sequential([\n",
        "    Dense(64, activation='relu', input_shape=(X_train.shape[1],)),\n",
        "    Dense(32, activation='relu'),\n",
        "    Dense(1, activation='sigmoid')\n",
        "])\n",
        "modelo_dl.compile(optimizer='adam', loss='binary_crossentropy', metrics=['accuracy'])\n",
        "\n",
        "# Entrenamiento\n",
        "modelo_dl.fit(X_train, y_train, epochs=10, validation_data=(X_test, y_test))\n"
      ]
    },
    {
      "cell_type": "markdown",
      "id": "13930e50",
      "metadata": {
        "id": "13930e50"
      },
      "source": [
        "## 8. Visualización final en mapas interactivos"
      ]
    },
    {
      "cell_type": "code",
      "execution_count": null,
      "id": "3a9cd7c4",
      "metadata": {
        "id": "3a9cd7c4"
      },
      "outputs": [],
      "source": [
        "# Mostrar predicciones de idoneidad en un mapa\n",
        "# (reconstrucción de capas raster con predicciones)\n"
      ]
    },
    {
      "cell_type": "code",
      "execution_count": null,
      "id": "8d938e2e",
      "metadata": {
        "id": "8d938e2e"
      },
      "outputs": [],
      "source": [
        "print(\" Fuentes sugeridas:\")\n",
        "print(\"- INEGI Uso del Suelo: https://www.inegi.org.mx/app/biblioteca/ficha.html?upc=889463197248\")\n",
        "print(\"- WorldClim (clima histórico y futuro): https://www.worldclim.org/data/worldclim21.html\")\n",
        "print(\"- CONABIO Geoportal: https://www.conabio.gob.mx/informacion/gis/\")"
      ]
    },
    {
      "cell_type": "markdown",
      "id": "b07ff16e",
      "metadata": {
        "id": "b07ff16e"
      },
      "source": [
        "##  9. Fuentes de datos\n",
        "- [INEGI Uso de Suelo y Vegetación](https://www.inegi.org.mx/app/biblioteca/ficha.html?upc=889463197248)\n",
        "- [WorldClim v2](https://www.worldclim.org/data/worldclim21.html)\n",
        "- [CONABIO Geoportal](https://www.conabio.gob.mx/informacion/gis/)\n",
        "- [Copernicus Climate Data Store](https://cds.climate.copernicus.eu/)"
      ]
    },
    {
      "cell_type": "markdown",
      "id": "a32ed682",
      "metadata": {
        "id": "a32ed682"
      },
      "source": [
        "## Conclusiones\n",
        "\n",
        "- Se propone una metodología replicable para evaluar la aptitud agrícola en función de cambios climáticos.\n",
        "- Para que este notebook funcione correctamente, asegúrate de incluir los archivos GeoTIFF, NetCDF y shapefiles necesarios en el repositorio.\n",
        "- Las rutas han sido generalizadas para facilitar su uso en diferentes entornos.\n"
      ]
    }
  ],
  "metadata": {
    "colab": {
      "provenance": [],
      "include_colab_link": true
    },
    "kernelspec": {
      "display_name": "Python 3",
      "name": "python3"
    },
    "language_info": {
      "name": "python"
    }
  },
  "nbformat": 4,
  "nbformat_minor": 5
}